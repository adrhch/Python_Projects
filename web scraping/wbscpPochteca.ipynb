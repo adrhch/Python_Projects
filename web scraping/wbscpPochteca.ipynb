{
 "cells": [
  {
   "cell_type": "markdown",
   "id": "f64ba8bd-7693-4e67-bc60-73106bb3be1c",
   "metadata": {},
   "source": [
    "# Generar catalogo de productos con web scrapping"
   ]
  },
  {
   "cell_type": "markdown",
   "id": "a0345931-c9ab-47ab-a19d-20101e41c9f5",
   "metadata": {},
   "source": [
    "Web scraping o raspado web, es una técnica utilizada mediante programas de software para extraer información de sitios web.\n",
    "\n",
    "\n",
    "Para este ejempo crearemos un catalogo con los productos ofrecidos en la tienda en linea de Grupo Pochteca, una empresa de materias primas con un catalogo con mas de 11,000 productos.\n",
    "\n",
    "Los modulos a utilizar son los siguientes:"
   ]
  },
  {
   "cell_type": "code",
   "execution_count": 1,
   "id": "960bb482-c93b-4256-b88a-3cf65c457c8d",
   "metadata": {},
   "outputs": [],
   "source": [
    "from bs4 import BeautifulSoup as bs\n",
    "import requests\n",
    "import csv\n",
    "import pandas as pd"
   ]
  },
  {
   "cell_type": "markdown",
   "id": "1aa16b50-0569-4545-844a-e095dcc99db8",
   "metadata": {},
   "source": [
    "Proporcionaremos manualmente las url, o direcciones web, de las cuales descargaremos la información."
   ]
  },
  {
   "cell_type": "code",
   "execution_count": 2,
   "id": "8c94ee36-2568-41c1-9a0f-4b8eb8fbc8e8",
   "metadata": {},
   "outputs": [],
   "source": [
    "url1 = 'https://tienda.pochteca.com.mx/productos/quimicos.html'\n",
    "url2 = 'https://tienda.pochteca.com.mx/productos/quimicos.html?p=2'\n",
    "url3 = 'https://tienda.pochteca.com.mx/productos/quimicos.html?p=3'\n",
    "url4 = 'https://tienda.pochteca.com.mx/productos/quimicos.html?p=4'\n",
    "url5 = 'https://tienda.pochteca.com.mx/productos/quimicos.html?p=5'"
   ]
  },
  {
   "cell_type": "markdown",
   "id": "98f4d072-2faf-465d-8582-3477d3de20a0",
   "metadata": {},
   "source": [
    "Es hora de \"hacer la sopa\", para ello utilizaremos la librería BeautifulSoup esta librería nos ayuda a navegar atraves del HTML que estemos analizando, identificando los \"tags\", \"id\", \"clases\" que lo conforman.\n",
    "\n",
    "En este caso nos iteresan los tags y clases:  \n",
    " - a .- los cuales en HTML se refiere a los links  \n",
    " - span .- los cuales en HTML se refieren como contenedores\n",
    " - class_=\"product-item-link\"\n",
    " - class_=\"price\""
   ]
  },
  {
   "cell_type": "code",
   "execution_count": 3,
   "id": "8a89cd1a-7717-496a-8bf7-65e9e69aa4f3",
   "metadata": {},
   "outputs": [],
   "source": [
    "r1 = requests.get(url1)\n",
    "soup1 = bs(r1.text, 'html.parser')\n",
    "productos1 = soup1.find_all(\"a\",class_=\"product-item-link\")\n",
    "precios1 = soup1.find_all(\"span\",class_=\"price\")\n",
    "\n",
    "r2 = requests.get(url2)\n",
    "soup2 = bs(r2.text, 'html.parser')\n",
    "productos2 = soup2.find_all(\"a\",class_=\"product-item-link\")\n",
    "precios2 = soup2.find_all(\"span\",class_=\"price\")\n",
    "\n",
    "r3 = requests.get(url3)\n",
    "soup3 = bs(r3.text, 'html.parser')\n",
    "productos3 = soup3.find_all(\"a\",class_=\"product-item-link\")\n",
    "precios3 = soup3.find_all(\"span\",class_=\"price\")\n",
    "\n",
    "r4 = requests.get(url4)\n",
    "soup4 = bs(r4.text, 'html.parser')\n",
    "productos4 = soup4.find_all(\"a\",class_=\"product-item-link\")\n",
    "precios4 = soup4.find_all(\"span\",class_=\"price\")\n",
    "\n",
    "r5 = requests.get(url5)\n",
    "soup5 = bs(r5.text, 'html.parser')\n",
    "productos5 = soup5.find_all(\"a\",class_=\"product-item-link\")\n",
    "precios5 = soup5.find_all(\"span\",class_=\"price\")"
   ]
  },
  {
   "cell_type": "markdown",
   "id": "596faabe-2ff6-4d43-8cd0-f9d6f2b68153",
   "metadata": {},
   "source": [
    "En este punto ya hemos extraido la información que necesitamos sin embargo, esta aun en formato HTML.  \n",
    "Para que la información tenga mejor presentación crearemos una lista de productos y una de precios."
   ]
  },
  {
   "cell_type": "code",
   "execution_count": 4,
   "id": "f3cbbefa-e336-43b1-8458-6095dbc73b6b",
   "metadata": {},
   "outputs": [],
   "source": [
    "productos = productos1 + productos2 + productos3 +productos4 +productos5\n",
    "lista_de_productos=[]\n",
    "\n",
    "precios = precios1 + precios2 + precios3 + precios4 + precios5\n",
    "lista_de_precios=[]"
   ]
  },
  {
   "cell_type": "code",
   "execution_count": 5,
   "id": "3a5d8cc2-556f-476a-92cb-e77646ddd66a",
   "metadata": {},
   "outputs": [],
   "source": [
    "for producto in productos:\n",
    "    item = producto.text.strip()\n",
    "    lista_de_productos.append(item)\n",
    "    \n",
    "for precio in precios:\n",
    "    item = precio.text.strip()\n",
    "    lista_de_precios.append(item)"
   ]
  },
  {
   "cell_type": "markdown",
   "id": "0cd16f8c-0926-428f-8225-b4f8e4616fa9",
   "metadata": {},
   "source": [
    "Podemos ver que que la lista de precios tiene 164 elementos ya que incluye el precio final y el precio antes de IVA."
   ]
  },
  {
   "cell_type": "code",
   "execution_count": 6,
   "id": "4cb0c1f8-9c31-46d4-b342-c8ab72aa6377",
   "metadata": {},
   "outputs": [
    {
     "name": "stdout",
     "output_type": "stream",
     "text": [
      "82\n",
      "164\n"
     ]
    }
   ],
   "source": [
    "print(len(lista_de_productos))\n",
    "print(len(lista_de_precios))"
   ]
  },
  {
   "cell_type": "markdown",
   "id": "2925439a-0656-483d-82f6-78d98c928e76",
   "metadata": {},
   "source": [
    "Separaremos estos dos precios en dos listas nuevas para generar una tabla."
   ]
  },
  {
   "cell_type": "code",
   "execution_count": 7,
   "id": "30a1234a-7726-4745-9269-1dd6f84176cd",
   "metadata": {},
   "outputs": [],
   "source": [
    "IVA=lista_de_precios[: : 2]\n",
    "sinIVA=lista_de_precios[1: : 2]"
   ]
  },
  {
   "cell_type": "code",
   "execution_count": 8,
   "id": "edf5c01b-d1c5-4228-8efc-3b81bbec80ca",
   "metadata": {},
   "outputs": [
    {
     "name": "stdout",
     "output_type": "stream",
     "text": [
      "82\n",
      "82\n"
     ]
    }
   ],
   "source": [
    "print(len(IVA))\n",
    "print(len(sinIVA))"
   ]
  },
  {
   "cell_type": "markdown",
   "id": "2ac43bef-d247-488c-9cfa-f3402ddba35a",
   "metadata": {},
   "source": [
    "Generamos una tabla con tres columnas en la cual podremos ver el producto, su precio final y su precio antes de IVA."
   ]
  },
  {
   "cell_type": "code",
   "execution_count": 9,
   "id": "d6745aab-4462-46ba-8871-aee83545aea3",
   "metadata": {},
   "outputs": [],
   "source": [
    "data = {'Producto':lista_de_productos,'Precio':IVA,'sinIVA':sinIVA}"
   ]
  },
  {
   "cell_type": "code",
   "execution_count": 10,
   "id": "1d252b84-372d-4dfa-a07f-dd9165d228a9",
   "metadata": {},
   "outputs": [],
   "source": [
    "df=pd.DataFrame(data)"
   ]
  },
  {
   "cell_type": "markdown",
   "id": "92c34100-78e3-4c88-a418-12aea7dbe245",
   "metadata": {},
   "source": [
    "Por último, guardaremos la información en formato csv. "
   ]
  },
  {
   "cell_type": "code",
   "execution_count": 11,
   "id": "4958c74c-2361-4414-bf8f-376e9073ab59",
   "metadata": {},
   "outputs": [],
   "source": [
    "df.to_csv('pochteca.csv')"
   ]
  },
  {
   "cell_type": "code",
   "execution_count": 14,
   "id": "cd6b7da6-d651-44aa-bf39-86327ff97ad8",
   "metadata": {},
   "outputs": [
    {
     "data": {
      "text/html": [
       "<div>\n",
       "<style scoped>\n",
       "    .dataframe tbody tr th:only-of-type {\n",
       "        vertical-align: middle;\n",
       "    }\n",
       "\n",
       "    .dataframe tbody tr th {\n",
       "        vertical-align: top;\n",
       "    }\n",
       "\n",
       "    .dataframe thead th {\n",
       "        text-align: right;\n",
       "    }\n",
       "</style>\n",
       "<table border=\"1\" class=\"dataframe\">\n",
       "  <thead>\n",
       "    <tr style=\"text-align: right;\">\n",
       "      <th></th>\n",
       "      <th>Producto</th>\n",
       "      <th>Precio</th>\n",
       "      <th>sinIVA</th>\n",
       "    </tr>\n",
       "  </thead>\n",
       "  <tbody>\n",
       "    <tr>\n",
       "      <th>0</th>\n",
       "      <td>Ácido bórico 25Kg</td>\n",
       "      <td>$1,135.63</td>\n",
       "      <td>$978.99</td>\n",
       "    </tr>\n",
       "    <tr>\n",
       "      <th>1</th>\n",
       "      <td>Ácido crómico - 25 kg</td>\n",
       "      <td>$3,803.19</td>\n",
       "      <td>$3,278.61</td>\n",
       "    </tr>\n",
       "    <tr>\n",
       "      <th>2</th>\n",
       "      <td>Ácido fosforoso - 25 kg</td>\n",
       "      <td>$7,848.87</td>\n",
       "      <td>$6,766.27</td>\n",
       "    </tr>\n",
       "    <tr>\n",
       "      <th>3</th>\n",
       "      <td>Ácido nítrico 70Kg</td>\n",
       "      <td>$1,887.99</td>\n",
       "      <td>$1,627.58</td>\n",
       "    </tr>\n",
       "    <tr>\n",
       "      <th>4</th>\n",
       "      <td>Ácido oxálico 25Kg</td>\n",
       "      <td>$2,052.42</td>\n",
       "      <td>$1,769.33</td>\n",
       "    </tr>\n",
       "  </tbody>\n",
       "</table>\n",
       "</div>"
      ],
      "text/plain": [
       "                  Producto     Precio     sinIVA\n",
       "0        Ácido bórico 25Kg  $1,135.63    $978.99\n",
       "1    Ácido crómico - 25 kg  $3,803.19  $3,278.61\n",
       "2  Ácido fosforoso - 25 kg  $7,848.87  $6,766.27\n",
       "3       Ácido nítrico 70Kg  $1,887.99  $1,627.58\n",
       "4       Ácido oxálico 25Kg  $2,052.42  $1,769.33"
      ]
     },
     "execution_count": 14,
     "metadata": {},
     "output_type": "execute_result"
    }
   ],
   "source": [
    "df.head()"
   ]
  }
 ],
 "metadata": {
  "kernelspec": {
   "display_name": "Python 3 (ipykernel)",
   "language": "python",
   "name": "python3"
  },
  "language_info": {
   "codemirror_mode": {
    "name": "ipython",
    "version": 3
   },
   "file_extension": ".py",
   "mimetype": "text/x-python",
   "name": "python",
   "nbconvert_exporter": "python",
   "pygments_lexer": "ipython3",
   "version": "3.10.4"
  }
 },
 "nbformat": 4,
 "nbformat_minor": 5
}
